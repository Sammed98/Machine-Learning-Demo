{
 "cells": [
  {
   "cell_type": "markdown",
   "metadata": {},
   "source": [
    "# Gibbs Sampling for DPGMM\n",
    "\n",
    "*Base distribution is Gaussain distribution*\n",
    "\n",
    "<center>$p(z_i = k | z_{-i}) \\equiv p(z_i | z_1 \\dots z_{i-1},z_{i+1},\\dots z_m)$</center>\n",
    "\n",
    "<center>$p(z_i = k|z_{-i},\\vec{x},{\\theta_k},\\alpha) $<br><br>\n",
    "$= p(z_i = k|z_{-i},x_i,\\vec{x},\\theta_k,\\alpha) $<br><br>\n",
    "$= p(z_i = k|z_{-i},\\alpha)p(x_i|\\theta_k,\\vec{x})$</center>\n",
    "\n",
    "\\begin{cases}\n",
    "({\\dfrac{n_k}{n+\\alpha}})\\mathcal{N}(x,\\dfrac{n_x}{n+1},\\mathbf{1})  existing\\\\\n",
    "({\\dfrac{\\alpha}{n+\\alpha}})\\mathcal{N}(x,0,1))  existing\n",
    "\\end{cases}\n",
    "\n",
    "where,<br>\n",
    "$z_i$ is the group assignment of $x_i$<br>\n",
    "$k$ is the cluster label<br>\n",
    "$\\alpha$ is the dispersion parameter"
   ]
  },
  {
   "cell_type": "code",
   "execution_count": 48,
   "metadata": {},
   "outputs": [],
   "source": [
    "import numpy as np\n",
    "from scipy import stats\n",
    "import matplotlib.pyplot as plt\n",
    "import matplotlib.tri as tri\n",
    "from mpl_toolkits.mplot3d import Axes3D\n",
    "from ipywidgets import interact\n",
    "from scipy.stats import dirichlet, multivariate_normal\n",
    "from scipy import stats\n",
    "import math\n",
    "import pandas as pd\n",
    "from sklearn import datasets"
   ]
  },
  {
   "cell_type": "code",
   "execution_count": 76,
   "metadata": {
    "collapsed": true
   },
   "outputs": [],
   "source": [
    "def demo(a1, a2, a3):\n",
    "    alpha = np.array([a1,a2,a3])\n",
    "    theta = stats.dirichlet(alpha).rvs(1000)\n",
    "    fig = plt.figure(figsize=(8, 8), dpi=100)\n",
    "    ax = plt.gca(projection='3d')\n",
    "    plt.title(r'$\\alpha$ = {}'.format(alpha))\n",
    "    ax.scatter(theta[:, 0], theta[:, 1], theta[:, 2])\n",
    "    ax.view_init(azim=30)\n",
    "    ax.set_xlabel(r'$\\theta_1$')\n",
    "    ax.set_ylabel(r'$\\theta_2$')\n",
    "    ax.set_zlabel(r'$\\theta_3$')\n",
    "    plt.show()"
   ]
  },
  {
   "cell_type": "code",
   "execution_count": 77,
   "metadata": {},
   "outputs": [
    {
     "data": {
      "application/vnd.jupyter.widget-view+json": {
       "model_id": "17f71a72c04a4f9c84afd396ba041934",
       "version_major": 2,
       "version_minor": 0
      },
      "text/plain": [
       "A Jupyter Widget"
      ]
     },
     "metadata": {},
     "output_type": "display_data"
    },
    {
     "data": {
      "text/plain": [
       "<function __main__.demo>"
      ]
     },
     "execution_count": 77,
     "metadata": {},
     "output_type": "execute_result"
    }
   ],
   "source": [
    "interact(demo, a1=(0.1,2),a2=(0.1,2),a3=(0.1,2))"
   ]
  },
  {
   "cell_type": "code",
   "execution_count": 109,
   "metadata": {},
   "outputs": [
    {
     "ename": "ValueError",
     "evalue": "Parameter vector 'a' must be one dimensional, but a.shape = (50, 50, 50, 3).",
     "output_type": "error",
     "traceback": [
      "\u001b[0;31m---------------------------------------------------------------------------\u001b[0m",
      "\u001b[0;31mValueError\u001b[0m                                Traceback (most recent call last)",
      "\u001b[0;32m<ipython-input-109-f93e06120d02>\u001b[0m in \u001b[0;36m<module>\u001b[0;34m()\u001b[0m\n\u001b[1;32m     20\u001b[0m \u001b[0mfig\u001b[0m \u001b[0;34m=\u001b[0m \u001b[0mplt\u001b[0m\u001b[0;34m.\u001b[0m\u001b[0mfigure\u001b[0m\u001b[0;34m(\u001b[0m\u001b[0;34m)\u001b[0m\u001b[0;34m\u001b[0m\u001b[0m\n\u001b[1;32m     21\u001b[0m \u001b[0max\u001b[0m \u001b[0;34m=\u001b[0m \u001b[0mfig\u001b[0m\u001b[0;34m.\u001b[0m\u001b[0mgca\u001b[0m\u001b[0;34m(\u001b[0m\u001b[0mprojection\u001b[0m\u001b[0;34m=\u001b[0m\u001b[0;34m'3d'\u001b[0m\u001b[0;34m)\u001b[0m\u001b[0;34m\u001b[0m\u001b[0m\n\u001b[0;32m---> 22\u001b[0;31m \u001b[0max\u001b[0m\u001b[0;34m.\u001b[0m\u001b[0mplot3D\u001b[0m\u001b[0;34m(\u001b[0m\u001b[0mX\u001b[0m\u001b[0;34m,\u001b[0m \u001b[0mY\u001b[0m\u001b[0;34m,\u001b[0m \u001b[0mdirichlet\u001b[0m\u001b[0;34m.\u001b[0m\u001b[0mpdf\u001b[0m\u001b[0;34m(\u001b[0m\u001b[0mpos\u001b[0m\u001b[0;34m,\u001b[0m \u001b[0ma\u001b[0m\u001b[0;34m)\u001b[0m\u001b[0;34m,\u001b[0m\u001b[0mcmap\u001b[0m\u001b[0;34m=\u001b[0m\u001b[0;34m'viridis'\u001b[0m\u001b[0;34m,\u001b[0m\u001b[0mlinewidth\u001b[0m\u001b[0;34m=\u001b[0m\u001b[0;36m0\u001b[0m\u001b[0;34m)\u001b[0m\u001b[0;34m\u001b[0m\u001b[0m\n\u001b[0m\u001b[1;32m     23\u001b[0m \u001b[0max\u001b[0m\u001b[0;34m.\u001b[0m\u001b[0mset_xlabel\u001b[0m\u001b[0;34m(\u001b[0m\u001b[0;34m'X axis'\u001b[0m\u001b[0;34m)\u001b[0m\u001b[0;34m\u001b[0m\u001b[0m\n\u001b[1;32m     24\u001b[0m \u001b[0max\u001b[0m\u001b[0;34m.\u001b[0m\u001b[0mset_ylabel\u001b[0m\u001b[0;34m(\u001b[0m\u001b[0;34m'Y axis'\u001b[0m\u001b[0;34m)\u001b[0m\u001b[0;34m\u001b[0m\u001b[0m\n",
      "\u001b[0;32m~/anaconda3/lib/python3.6/site-packages/scipy/stats/_multivariate.py\u001b[0m in \u001b[0;36mpdf\u001b[0;34m(self, x, alpha)\u001b[0m\n\u001b[1;32m   1266\u001b[0m \u001b[0;34m\u001b[0m\u001b[0m\n\u001b[1;32m   1267\u001b[0m         \"\"\"\n\u001b[0;32m-> 1268\u001b[0;31m         \u001b[0malpha\u001b[0m \u001b[0;34m=\u001b[0m \u001b[0m_dirichlet_check_parameters\u001b[0m\u001b[0;34m(\u001b[0m\u001b[0malpha\u001b[0m\u001b[0;34m)\u001b[0m\u001b[0;34m\u001b[0m\u001b[0m\n\u001b[0m\u001b[1;32m   1269\u001b[0m         \u001b[0mx\u001b[0m \u001b[0;34m=\u001b[0m \u001b[0m_dirichlet_check_input\u001b[0m\u001b[0;34m(\u001b[0m\u001b[0malpha\u001b[0m\u001b[0;34m,\u001b[0m \u001b[0mx\u001b[0m\u001b[0;34m)\u001b[0m\u001b[0;34m\u001b[0m\u001b[0m\n\u001b[1;32m   1270\u001b[0m \u001b[0;34m\u001b[0m\u001b[0m\n",
      "\u001b[0;32m~/anaconda3/lib/python3.6/site-packages/scipy/stats/_multivariate.py\u001b[0m in \u001b[0;36m_dirichlet_check_parameters\u001b[0;34m(alpha)\u001b[0m\n\u001b[1;32m   1075\u001b[0m     \u001b[0;32melif\u001b[0m \u001b[0malpha\u001b[0m\u001b[0;34m.\u001b[0m\u001b[0mndim\u001b[0m \u001b[0;34m!=\u001b[0m \u001b[0;36m1\u001b[0m\u001b[0;34m:\u001b[0m\u001b[0;34m\u001b[0m\u001b[0m\n\u001b[1;32m   1076\u001b[0m         raise ValueError(\"Parameter vector 'a' must be one dimensional, \"\n\u001b[0;32m-> 1077\u001b[0;31m                        \"but a.shape = %s.\" % (alpha.shape, ))\n\u001b[0m\u001b[1;32m   1078\u001b[0m     \u001b[0;32mreturn\u001b[0m \u001b[0malpha\u001b[0m\u001b[0;34m\u001b[0m\u001b[0m\n\u001b[1;32m   1079\u001b[0m \u001b[0;34m\u001b[0m\u001b[0m\n",
      "\u001b[0;31mValueError\u001b[0m: Parameter vector 'a' must be one dimensional, but a.shape = (50, 50, 50, 3)."
     ]
    }
   ],
   "source": [
    "x = np.linspace(0,1,50)\n",
    "y = np.linspace(0,1,50)\n",
    "z = np.linspace(0,1,50)\n",
    "X, Y, Z = np.meshgrid(x,y,z)\n",
    "pos = np.empty(X.shape + (3,))\n",
    "pos[:, :, :, 0] = X; pos[:, :, :, 1] = Y; pos[:, :, :, 2] = Z\n",
    "quantiles = np.array([0.2, 0.2, 0.6])  # specify quantiles\n",
    "alpha = np.array([0.4, 5, 15])  # specify concentration parameters\n",
    "a1=np.ones((50,50,50))*alpha[0]\n",
    "a2=np.ones((50,50,50))*alpha[1]\n",
    "a3=np.ones((50,50,50))*alpha[2]\n",
    "\n",
    "a=np.empty((50,50,50,3))\n",
    "a[:,:,:,0]=a1\n",
    "a[:,:,:,1]=a2\n",
    "a[:,:,:,2]=a3\n",
    "# dirichlet.pdf(quantiles, alpha)\n",
    "\n",
    "#Make a 3D plot\n",
    "fig = plt.figure()\n",
    "ax = fig.gca(projection='3d')\n",
    "ax.plot3D(X, Y, dirichlet.pdf(pos, a),cmap='viridis',linewidth=0)\n",
    "ax.set_xlabel('X axis')\n",
    "ax.set_ylabel('Y axis')\n",
    "ax.set_zlabel('Z axis')\n",
    "plt.show()"
   ]
  },
  {
   "cell_type": "code",
   "execution_count": 108,
   "metadata": {
    "collapsed": true
   },
   "outputs": [],
   "source": [
    "a1=np.ones((50,50,50))*alpha[0]\n",
    "a2=np.ones((50,50,50))*alpha[1]\n",
    "a3=np.ones((50,50,50))*alpha[2]\n",
    "\n",
    "a=np.empty((50,50,50,3))\n",
    "a[:,:,:,0]=a1\n",
    "a[:,:,:,1]=a2\n",
    "a[:,:,:,2]=a3\n",
    "# a[:,:,:,0] = alpha[0]*3"
   ]
  },
  {
   "cell_type": "code",
   "execution_count": 102,
   "metadata": {
    "collapsed": true
   },
   "outputs": [],
   "source": [
    "import tensorflow as tf"
   ]
  },
  {
   "cell_type": "code",
   "execution_count": 72,
   "metadata": {},
   "outputs": [
    {
     "ename": "ModuleNotFoundError",
     "evalue": "No module named 'edward'",
     "output_type": "error",
     "traceback": [
      "\u001b[0;31m---------------------------------------------------------------------------\u001b[0m",
      "\u001b[0;31mModuleNotFoundError\u001b[0m                       Traceback (most recent call last)",
      "\u001b[0;32m<ipython-input-72-646b2c48080c>\u001b[0m in \u001b[0;36m<module>\u001b[0;34m()\u001b[0m\n\u001b[0;32m----> 1\u001b[0;31m \u001b[0;32mimport\u001b[0m \u001b[0medward\u001b[0m \u001b[0;32mas\u001b[0m \u001b[0med\u001b[0m\u001b[0;34m\u001b[0m\u001b[0m\n\u001b[0m",
      "\u001b[0;31mModuleNotFoundError\u001b[0m: No module named 'edward'"
     ]
    }
   ],
   "source": [
    "!pip install edwas"
   ]
  },
  {
   "cell_type": "code",
   "execution_count": 78,
   "metadata": {
    "collapsed": true
   },
   "outputs": [],
   "source": [
    "def dirichlet_process(h_0, alpha):\n",
    "    \"\"\"\n",
    "    Truncated dirichlet process.\n",
    "    :param h_0: (scipy distribution)\n",
    "    :param alpha: (flt)\n",
    "    :param n: (int) Truncate value.\n",
    "    \"\"\"\n",
    "    n = max(int(5 * alpha + 2), 500)  # truncate the values. \n",
    "    pi = stats.beta(1, alpha).rvs(size=n)\n",
    "    pi[1:] = pi[1:] * (1 - pi[:-1]).cumprod()  # stick breaking process\n",
    "    theta = h_0(size=n)  # samples from original distribution\n",
    "    return pi, theta\n",
    "        \n",
    "def plot_normal_dp_approximation(alpha, n=3):\n",
    "    pi, theta = dirichlet_process(stats.norm.rvs, alpha)\n",
    "    x = np.linspace(-4, 4, 100)\n",
    "    \n",
    "    plt.figure(figsize=(14, 4))\n",
    "    plt.suptitle(r'Three samples from DP($\\alpha$). $\\alpha$ = {}'.format(alpha))\n",
    "    plt.ylabel(r'$\\pi$')\n",
    "    plt.xlabel(r'$\\theta$')\n",
    "    pltcount = int('1' + str(n) + '0')\n",
    "    \n",
    "    for i in range(n):\n",
    "        pltcount += 1\n",
    "        plt.subplot(pltcount)\n",
    "        pi, theta = dirichlet_process(stats.norm.rvs, alpha)\n",
    "        pi = pi * (stats.norm.pdf(0) / pi.max())\n",
    "        plt.vlines(theta, 0, pi, alpha=0.5)\n",
    "        plt.ylim(0, 1)\n",
    "        plt.plot(x, stats.norm.pdf(x))\n",
    "        print(len(theta),len(pi))\n",
    "    plt.show()"
   ]
  },
  {
   "cell_type": "code",
   "execution_count": 69,
   "metadata": {},
   "outputs": [
    {
     "ename": "ValueError",
     "evalue": "size does not match the broadcast shape of the parameters.",
     "output_type": "error",
     "traceback": [
      "\u001b[0;31m---------------------------------------------------------------------------\u001b[0m",
      "\u001b[0;31mValueError\u001b[0m                                Traceback (most recent call last)",
      "\u001b[0;32m<ipython-input-69-6340c2804ff6>\u001b[0m in \u001b[0;36m<module>\u001b[0;34m()\u001b[0m\n\u001b[0;32m----> 1\u001b[0;31m \u001b[0mpi\u001b[0m \u001b[0;34m=\u001b[0m \u001b[0mstats\u001b[0m\u001b[0;34m.\u001b[0m\u001b[0mbeta\u001b[0m\u001b[0;34m(\u001b[0m\u001b[0;36m1\u001b[0m\u001b[0;34m,\u001b[0m \u001b[0malpha\u001b[0m\u001b[0;34m)\u001b[0m\u001b[0;34m.\u001b[0m\u001b[0mrvs\u001b[0m\u001b[0;34m(\u001b[0m\u001b[0msize\u001b[0m\u001b[0;34m=\u001b[0m\u001b[0;36m500\u001b[0m\u001b[0;34m)\u001b[0m\u001b[0;34m\u001b[0m\u001b[0m\n\u001b[0m\u001b[1;32m      2\u001b[0m \u001b[0;34m\u001b[0m\u001b[0m\n",
      "\u001b[0;32m~/anaconda3/lib/python3.6/site-packages/scipy/stats/_distn_infrastructure.py\u001b[0m in \u001b[0;36mrvs\u001b[0;34m(self, size, random_state)\u001b[0m\n\u001b[1;32m    468\u001b[0m         \u001b[0mkwds\u001b[0m \u001b[0;34m=\u001b[0m \u001b[0mself\u001b[0m\u001b[0;34m.\u001b[0m\u001b[0mkwds\u001b[0m\u001b[0;34m.\u001b[0m\u001b[0mcopy\u001b[0m\u001b[0;34m(\u001b[0m\u001b[0;34m)\u001b[0m\u001b[0;34m\u001b[0m\u001b[0m\n\u001b[1;32m    469\u001b[0m         \u001b[0mkwds\u001b[0m\u001b[0;34m.\u001b[0m\u001b[0mupdate\u001b[0m\u001b[0;34m(\u001b[0m\u001b[0;34m{\u001b[0m\u001b[0;34m'size'\u001b[0m\u001b[0;34m:\u001b[0m \u001b[0msize\u001b[0m\u001b[0;34m,\u001b[0m \u001b[0;34m'random_state'\u001b[0m\u001b[0;34m:\u001b[0m \u001b[0mrandom_state\u001b[0m\u001b[0;34m}\u001b[0m\u001b[0;34m)\u001b[0m\u001b[0;34m\u001b[0m\u001b[0m\n\u001b[0;32m--> 470\u001b[0;31m         \u001b[0;32mreturn\u001b[0m \u001b[0mself\u001b[0m\u001b[0;34m.\u001b[0m\u001b[0mdist\u001b[0m\u001b[0;34m.\u001b[0m\u001b[0mrvs\u001b[0m\u001b[0;34m(\u001b[0m\u001b[0;34m*\u001b[0m\u001b[0mself\u001b[0m\u001b[0;34m.\u001b[0m\u001b[0margs\u001b[0m\u001b[0;34m,\u001b[0m \u001b[0;34m**\u001b[0m\u001b[0mkwds\u001b[0m\u001b[0;34m)\u001b[0m\u001b[0;34m\u001b[0m\u001b[0m\n\u001b[0m\u001b[1;32m    471\u001b[0m \u001b[0;34m\u001b[0m\u001b[0m\n\u001b[1;32m    472\u001b[0m     \u001b[0;32mdef\u001b[0m \u001b[0msf\u001b[0m\u001b[0;34m(\u001b[0m\u001b[0mself\u001b[0m\u001b[0;34m,\u001b[0m \u001b[0mx\u001b[0m\u001b[0;34m)\u001b[0m\u001b[0;34m:\u001b[0m\u001b[0;34m\u001b[0m\u001b[0m\n",
      "\u001b[0;32m~/anaconda3/lib/python3.6/site-packages/scipy/stats/_distn_infrastructure.py\u001b[0m in \u001b[0;36mrvs\u001b[0;34m(self, *args, **kwds)\u001b[0m\n\u001b[1;32m    935\u001b[0m         \u001b[0mdiscrete\u001b[0m \u001b[0;34m=\u001b[0m \u001b[0mkwds\u001b[0m\u001b[0;34m.\u001b[0m\u001b[0mpop\u001b[0m\u001b[0;34m(\u001b[0m\u001b[0;34m'discrete'\u001b[0m\u001b[0;34m,\u001b[0m \u001b[0;32mNone\u001b[0m\u001b[0;34m)\u001b[0m\u001b[0;34m\u001b[0m\u001b[0m\n\u001b[1;32m    936\u001b[0m         \u001b[0mrndm\u001b[0m \u001b[0;34m=\u001b[0m \u001b[0mkwds\u001b[0m\u001b[0;34m.\u001b[0m\u001b[0mpop\u001b[0m\u001b[0;34m(\u001b[0m\u001b[0;34m'random_state'\u001b[0m\u001b[0;34m,\u001b[0m \u001b[0;32mNone\u001b[0m\u001b[0;34m)\u001b[0m\u001b[0;34m\u001b[0m\u001b[0m\n\u001b[0;32m--> 937\u001b[0;31m         \u001b[0margs\u001b[0m\u001b[0;34m,\u001b[0m \u001b[0mloc\u001b[0m\u001b[0;34m,\u001b[0m \u001b[0mscale\u001b[0m\u001b[0;34m,\u001b[0m \u001b[0msize\u001b[0m \u001b[0;34m=\u001b[0m \u001b[0mself\u001b[0m\u001b[0;34m.\u001b[0m\u001b[0m_parse_args_rvs\u001b[0m\u001b[0;34m(\u001b[0m\u001b[0;34m*\u001b[0m\u001b[0margs\u001b[0m\u001b[0;34m,\u001b[0m \u001b[0;34m**\u001b[0m\u001b[0mkwds\u001b[0m\u001b[0;34m)\u001b[0m\u001b[0;34m\u001b[0m\u001b[0m\n\u001b[0m\u001b[1;32m    938\u001b[0m         \u001b[0mcond\u001b[0m \u001b[0;34m=\u001b[0m \u001b[0mlogical_and\u001b[0m\u001b[0;34m(\u001b[0m\u001b[0mself\u001b[0m\u001b[0;34m.\u001b[0m\u001b[0m_argcheck\u001b[0m\u001b[0;34m(\u001b[0m\u001b[0;34m*\u001b[0m\u001b[0margs\u001b[0m\u001b[0;34m)\u001b[0m\u001b[0;34m,\u001b[0m \u001b[0;34m(\u001b[0m\u001b[0mscale\u001b[0m \u001b[0;34m>=\u001b[0m \u001b[0;36m0\u001b[0m\u001b[0;34m)\u001b[0m\u001b[0;34m)\u001b[0m\u001b[0;34m\u001b[0m\u001b[0m\n\u001b[1;32m    939\u001b[0m         \u001b[0;32mif\u001b[0m \u001b[0;32mnot\u001b[0m \u001b[0mnp\u001b[0m\u001b[0;34m.\u001b[0m\u001b[0mall\u001b[0m\u001b[0;34m(\u001b[0m\u001b[0mcond\u001b[0m\u001b[0;34m)\u001b[0m\u001b[0;34m:\u001b[0m\u001b[0;34m\u001b[0m\u001b[0m\n",
      "\u001b[0;32m<string>\u001b[0m in \u001b[0;36m_parse_args_rvs\u001b[0;34m(self, a, b, loc, scale, size)\u001b[0m\n",
      "\u001b[0;32m~/anaconda3/lib/python3.6/site-packages/scipy/stats/_distn_infrastructure.py\u001b[0m in \u001b[0;36m_argcheck_rvs\u001b[0;34m(self, *args, **kwargs)\u001b[0m\n\u001b[1;32m    849\u001b[0m                   for (bcdim, szdim) in zip(bcast_shape, size_)])\n\u001b[1;32m    850\u001b[0m         \u001b[0;32mif\u001b[0m \u001b[0;32mnot\u001b[0m \u001b[0mok\u001b[0m\u001b[0;34m:\u001b[0m\u001b[0;34m\u001b[0m\u001b[0m\n\u001b[0;32m--> 851\u001b[0;31m             raise ValueError(\"size does not match the broadcast shape of \"\n\u001b[0m\u001b[1;32m    852\u001b[0m                              \"the parameters.\")\n\u001b[1;32m    853\u001b[0m \u001b[0;34m\u001b[0m\u001b[0m\n",
      "\u001b[0;31mValueError\u001b[0m: size does not match the broadcast shape of the parameters."
     ]
    }
   ],
   "source": []
  },
  {
   "cell_type": "code",
   "execution_count": 63,
   "metadata": {
    "collapsed": true
   },
   "outputs": [],
   "source": [
    "pi,thetas = dirichlet_process(stats.norm.rvs,10)"
   ]
  },
  {
   "cell_type": "code",
   "execution_count": 66,
   "metadata": {},
   "outputs": [
    {
     "data": {
      "text/plain": [
       "-19.079940660168138"
      ]
     },
     "execution_count": 66,
     "metadata": {},
     "output_type": "execute_result"
    }
   ],
   "source": []
  },
  {
   "cell_type": "code",
   "execution_count": 51,
   "metadata": {},
   "outputs": [
    {
     "data": {
      "application/vnd.jupyter.widget-view+json": {
       "model_id": "abaf874f1d69432f99717e4703da26be",
       "version_major": 2,
       "version_minor": 0
      },
      "text/plain": [
       "A Jupyter Widget"
      ]
     },
     "metadata": {},
     "output_type": "display_data"
    },
    {
     "data": {
      "text/plain": [
       "<function __main__.plot_normal_dp_approximation>"
      ]
     },
     "execution_count": 51,
     "metadata": {},
     "output_type": "execute_result"
    }
   ],
   "source": [
    "interact(plot_normal_dp_approximation, alpha=(1, 50), n=(2,3))"
   ]
  },
  {
   "cell_type": "code",
   "execution_count": 84,
   "metadata": {
    "collapsed": true
   },
   "outputs": [],
   "source": [
    "xx,yy,zz= np.meshgrid(x,y,np.linspace(0,1,50))"
   ]
  },
  {
   "cell_type": "code",
   "execution_count": 88,
   "metadata": {},
   "outputs": [
    {
     "data": {
      "text/plain": [
       "(50, 50, 50)"
      ]
     },
     "execution_count": 88,
     "metadata": {},
     "output_type": "execute_result"
    }
   ],
   "source": [
    "zz.shape"
   ]
  },
  {
   "cell_type": "code",
   "execution_count": 128,
   "metadata": {},
   "outputs": [
    {
     "data": {
      "text/plain": [
       "86354.38549187817"
      ]
     },
     "execution_count": 128,
     "metadata": {},
     "output_type": "execute_result"
    }
   ],
   "source": [
    "corners = np.array([[1, 0], [0, 1], [0, 0]])\n",
    "triang = tri.Triangulation(corners[:, 0], corners[:, 1])\n",
    "fig = plt.figure(figsize=(8, 8), dpi=100)\n",
    "ax = plt.gca(projection='3d')\n",
    "# z=[0,0,1]\n",
    "\n",
    "x = np.linspace(0,1,50)\n",
    "y = np.linspace(0,1,50)\n",
    "z = np.linspace(0,1,50)\n",
    "X, Y, Z = np.meshgrid(x,y,z)\n",
    "\n",
    "alpha = np.array([0.4, 5, 15])\n",
    "a=np.empty((50,50,50,3))\n",
    "a[:,:,:,0]=a1\n",
    "a[:,:,:,1]=a2\n",
    "a[:,:,:,2]=a3\n",
    "\n",
    "math.gamma(sum(alpha))/(math.gamma(alpha[0])*math.gamma(alpha[1])*math.gamma(alpha[2]))\n",
    "# ax.view_init(azim=30)\n",
    "# ax.plot_trisurf(triang, [0,0,1])\n",
    "# plt.show()"
   ]
  },
  {
   "cell_type": "code",
   "execution_count": 3,
   "metadata": {},
   "outputs": [
    {
     "ename": "ModuleNotFoundError",
     "evalue": "No module named 'distributions'",
     "output_type": "error",
     "traceback": [
      "\u001b[0;31m---------------------------------------------------------------------------\u001b[0m",
      "\u001b[0;31mModuleNotFoundError\u001b[0m                       Traceback (most recent call last)",
      "\u001b[0;32m<ipython-input-3-36fd887fed8e>\u001b[0m in \u001b[0;36m<module>\u001b[0;34m()\u001b[0m\n\u001b[0;32m----> 1\u001b[0;31m \u001b[0;32mfrom\u001b[0m \u001b[0mdpcluster\u001b[0m \u001b[0;32mimport\u001b[0m \u001b[0;34m*\u001b[0m\u001b[0;34m\u001b[0m\u001b[0m\n\u001b[0m\u001b[1;32m      2\u001b[0m \u001b[0mn\u001b[0m \u001b[0;34m=\u001b[0m \u001b[0;36m10\u001b[0m\u001b[0;34m\u001b[0m\u001b[0m\n\u001b[1;32m      3\u001b[0m \u001b[0mdata\u001b[0m \u001b[0;34m=\u001b[0m \u001b[0mnp\u001b[0m\u001b[0;34m.\u001b[0m\u001b[0mrandom\u001b[0m\u001b[0;34m.\u001b[0m\u001b[0mnormal\u001b[0m\u001b[0;34m(\u001b[0m\u001b[0msize\u001b[0m\u001b[0;34m=\u001b[0m\u001b[0;36m2\u001b[0m\u001b[0;34m*\u001b[0m\u001b[0mn\u001b[0m\u001b[0;34m)\u001b[0m\u001b[0;34m.\u001b[0m\u001b[0mreshape\u001b[0m\u001b[0;34m(\u001b[0m\u001b[0;34m-\u001b[0m\u001b[0;36m1\u001b[0m\u001b[0;34m,\u001b[0m\u001b[0;36m2\u001b[0m\u001b[0;34m)\u001b[0m\u001b[0;34m\u001b[0m\u001b[0m\n\u001b[1;32m      4\u001b[0m \u001b[0mvdp\u001b[0m \u001b[0;34m=\u001b[0m \u001b[0mVDP\u001b[0m\u001b[0;34m(\u001b[0m\u001b[0mGaussianNIW\u001b[0m\u001b[0;34m(\u001b[0m\u001b[0;36m2\u001b[0m\u001b[0;34m)\u001b[0m\u001b[0;34m)\u001b[0m\u001b[0;34m\u001b[0m\u001b[0m\n\u001b[1;32m      5\u001b[0m \u001b[0mvdp\u001b[0m\u001b[0;34m.\u001b[0m\u001b[0mbatch_learn\u001b[0m\u001b[0;34m(\u001b[0m\u001b[0mvdp\u001b[0m\u001b[0;34m.\u001b[0m\u001b[0mdistr\u001b[0m\u001b[0;34m.\u001b[0m\u001b[0msufficient_stats\u001b[0m\u001b[0;34m(\u001b[0m\u001b[0mdata\u001b[0m\u001b[0;34m)\u001b[0m\u001b[0;34m)\u001b[0m\u001b[0;34m\u001b[0m\u001b[0m\n",
      "\u001b[0;32m~/anaconda3/lib/python3.6/site-packages/dpcluster/__init__.py\u001b[0m in \u001b[0;36m<module>\u001b[0;34m()\u001b[0m\n\u001b[1;32m      1\u001b[0m \"\"\"\n\u001b[1;32m      2\u001b[0m \"\"\"\n\u001b[0;32m----> 3\u001b[0;31m \u001b[0;32mfrom\u001b[0m \u001b[0mdistributions\u001b[0m \u001b[0;32mimport\u001b[0m \u001b[0;34m*\u001b[0m\u001b[0;34m\u001b[0m\u001b[0m\n\u001b[0m\u001b[1;32m      4\u001b[0m \u001b[0;32mfrom\u001b[0m \u001b[0malgorithms\u001b[0m \u001b[0;32mimport\u001b[0m \u001b[0;34m*\u001b[0m\u001b[0;34m\u001b[0m\u001b[0m\n",
      "\u001b[0;31mModuleNotFoundError\u001b[0m: No module named 'distributions'"
     ]
    }
   ],
   "source": [
    "from dpcluster import *\n",
    "n = 10\n",
    "data = np.random.normal(size=2*n).reshape(-1,2)\n",
    "vdp = VDP(GaussianNIW(2))\n",
    "vdp.batch_learn(vdp.distr.sufficient_stats(data))\n",
    "plt.scatter(data[:,0],data[:,1])\n",
    "vdp.plot_clusters(slc=np.array([0,1]))\n",
    "plt.show()"
   ]
  },
  {
   "cell_type": "code",
   "execution_count": 47,
   "metadata": {},
   "outputs": [
    {
     "data": {
      "text/plain": [
       "array([4.8, 0.2])"
      ]
     },
     "execution_count": 47,
     "metadata": {},
     "output_type": "execute_result"
    }
   ],
   "source": [
    "iris=datasets.load_iris()\n",
    "irispd=pd.DataFrame(np.c_[iris.data,iris.target],columns=iris.feature_names+['class'])\n",
    "X=np.array(irispd[['sepal length (cm)', 'petal width (cm)']])\n",
    "Y=np.array(irispd[irispd.columns[-1]])\n",
    "np.mean(X[1:5], axis=0)"
   ]
  },
  {
   "cell_type": "code",
   "execution_count": 124,
   "metadata": {},
   "outputs": [],
   "source": [
    "al=10\n",
    "data=X\n",
    "n_cl=np.ones(len(data))\n",
    "cl_data = {}\n",
    "cluster=np.array(range(len(data)))\n",
    "cl_prob={}\n",
    "# cl_prob = np.zeros(len(n_c))\n",
    "n=len(data)\n",
    "\n",
    "m_k=0\n",
    "\n",
    "for c in cluster:\n",
    "    cl_data[c]=1\n",
    "for _ in range(10):\n",
    "    \n",
    "    for i in range(len(data)):\n",
    "        m=-math.inf\n",
    "        temp = np.unique(cluster)\n",
    "        for t in temp:\n",
    "            cl_data[t] = [sum(cluster == t), np.mean(data[cluster == t], axis=0)]\n",
    "            cl_prob[t] = 0\n",
    "\n",
    "        new = (al/(al+n-1))\n",
    "        for k in cl_data.keys():\n",
    "            cl_prob[k] = (cl_data[k][0]/(al+n-1))*multivariate_normal.pdf(data[i], mean=cl_data[k][1], cov=np.eye(2))\n",
    "\n",
    "            if m < cl_prob[k]:\n",
    "                m_k=k\n",
    "                m=cl_prob[k]\n",
    "        r = np.random.rand(1)\n",
    "        if new>r and new>m:\n",
    "            if cl_data[cluster[i]][0]!=1:\n",
    "#                 print(i)\n",
    "                cl_data[cluster[i]][0] -=1\n",
    "                cluster[i] = np.max(cluster)+1\n",
    "#                 print(cluster[i])\n",
    "                cl_data[cluster[i]] = [1, data[i]]\n",
    "        else :\n",
    "            if cl_data[cluster[i]] == 1:\n",
    "                del cl_data[cluster[i]]\n",
    "            cluster[i] = m_k"
   ]
  },
  {
   "cell_type": "code",
   "execution_count": 125,
   "metadata": {},
   "outputs": [
    {
     "data": {
      "text/plain": [
       "(5,)"
      ]
     },
     "execution_count": 125,
     "metadata": {},
     "output_type": "execute_result"
    }
   ],
   "source": [
    "np.unique(cluster).shape"
   ]
  },
  {
   "cell_type": "code",
   "execution_count": 126,
   "metadata": {},
   "outputs": [
    {
     "data": {
      "text/plain": [
       "array([  4,   4,   4,   4, 150,   4,   4,   4,   4, 151,   4,   4,   4,\n",
       "         4,   4,   4,   4,   4,   4,   4,   4,   4,   4,   4,   4,   4,\n",
       "         4,   4,   4,   4,   4,   4,   4,   4,   4,   4,   4,   4,   4,\n",
       "         4,   4,   4,   4,   4,   4,   4,   4,   4,   4,   4,   4,   4,\n",
       "         4,   4,   4,   4,   4,   4,   4,   4,   4,   4,   4,   4,   4,\n",
       "         4,   4,   4,   4,   4,   4,   4,   4,   4,   4,   4,   4,   4,\n",
       "         4,   4,   4,   4,   4,   4,   4,   4,   4,   4,   4,   4,   4,\n",
       "         4,   4,   4,   4,   4,   4,   4,   4,   4,   4,   4,   4,   4,\n",
       "         4,   4,   4,   4,   4,   4,   4,   4,   4,   4,   4,   4,   4,\n",
       "         4,   4,   4,   4,   4,   4,   4,   4, 152,   4,   4,   4,   4,\n",
       "         4,   4,   4,   4,   4, 153,   4,   4,   4,   4,   4,   4,   4,\n",
       "         4,   4,   4,   4,   4,   4,   4])"
      ]
     },
     "execution_count": 126,
     "metadata": {},
     "output_type": "execute_result"
    }
   ],
   "source": [
    "cluster"
   ]
  },
  {
   "cell_type": "code",
   "execution_count": null,
   "metadata": {
    "collapsed": true
   },
   "outputs": [],
   "source": []
  }
 ],
 "metadata": {
  "kernelspec": {
   "display_name": "Python 3",
   "language": "python",
   "name": "python3"
  },
  "language_info": {
   "codemirror_mode": {
    "name": "ipython",
    "version": 3
   },
   "file_extension": ".py",
   "mimetype": "text/x-python",
   "name": "python",
   "nbconvert_exporter": "python",
   "pygments_lexer": "ipython3",
   "version": "3.6.5"
  }
 },
 "nbformat": 4,
 "nbformat_minor": 2
}
