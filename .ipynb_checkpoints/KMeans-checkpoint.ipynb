{
 "cells": [
  {
   "cell_type": "markdown",
   "metadata": {},
   "source": [
    "# KMeans Visualization\n",
    "\n",
    "Change the parameters below to visualize the functioning of the KMeans algortihmn. "
   ]
  },
  {
   "cell_type": "markdown",
   "metadata": {},
   "source": [
    "## KMeans Code"
   ]
  },
  {
   "cell_type": "code",
   "execution_count": 1,
   "metadata": {},
   "outputs": [],
   "source": [
    "import numpy as np\n",
    "import matplotlib.pyplot as plt\n",
    "from sklearn.datasets import make_blobs\n",
    "from sklearn.cluster import KMeans\n",
    "from ipywidgets import interact\n",
    "from onlykmeans import KMEANS\n",
    "\n",
    "def main(num_blobs,num_datapoints, num_clusters, random_seed):\n",
    "    kmeans,X,y_pred = KMEANS(num_blobs,num_datapoints, num_clusters, random_seed)\n",
    "    plt.figure(figsize = (15,10))\n",
    "    plt.scatter(X[:, 0], X[:, 1], c=y_pred, cmap=\"plasma\")\n",
    "    plt.scatter(kmeans.cluster_centers_[:, 0],   kmeans.cluster_centers_[:, 1],marker='^', c=list(range(0,num_clusters)), s=100, linewidth=2,cmap=\"plasma\")\n",
    "    plt.xlabel(\"Feature 0\")\n",
    "    plt.ylabel(\"Feature 1\")"
   ]
  },
  {
   "cell_type": "markdown",
   "metadata": {},
   "source": [
    "## Visualiation"
   ]
  },
  {
   "cell_type": "code",
   "execution_count": 2,
   "metadata": {},
   "outputs": [
    {
     "data": {
      "application/vnd.jupyter.widget-view+json": {
       "model_id": "26b89ef7605d4c569822790d75effd65",
       "version_major": 2,
       "version_minor": 0
      },
      "text/plain": [
       "interactive(children=(IntSlider(value=12, description='num_blobs', max=20, min=5), IntSlider(value=750, descri…"
      ]
     },
     "metadata": {},
     "output_type": "display_data"
    }
   ],
   "source": [
    "interact(main,num_blobs = (5,20),num_datapoints=(500,1000), num_clusters=(1,20),random_seed = (1,100));"
   ]
  },
  {
   "cell_type": "code",
   "execution_count": null,
   "metadata": {},
   "outputs": [],
   "source": []
  }
 ],
 "metadata": {
  "kernelspec": {
   "display_name": "Python 3",
   "language": "python",
   "name": "python3"
  },
  "language_info": {
   "codemirror_mode": {
    "name": "ipython",
    "version": 3
   },
   "file_extension": ".py",
   "mimetype": "text/x-python",
   "name": "python",
   "nbconvert_exporter": "python",
   "pygments_lexer": "ipython3",
   "version": "3.6.5"
  }
 },
 "nbformat": 4,
 "nbformat_minor": 2
}
