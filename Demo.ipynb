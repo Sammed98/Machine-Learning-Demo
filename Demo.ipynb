{
 "cells": [
  {
   "cell_type": "markdown",
   "metadata": {},
   "source": [
    "# Dirichlet Distribution\n",
    "\n",
    "*A multinomial generalization of Beta distribution*\n",
    "\n",
    "\n",
    "$f(x_1,\\dots,x_k;\\alpha_1,\\dots,\\alpha_K) = \\dfrac{1}{B(\\alpha)}\\displaystyle \\prod_{i=1}^{K} x_i^{\\alpha_i-1}$<br><br>\n",
    "\n",
    "$B(\\alpha) = \\dfrac{\\displaystyle \\prod_{i=1}^{K}\\Gamma(\\alpha_i)}{\\Gamma(\\displaystyle \\sum_{i=1}^{K}\\alpha_i)}$\n",
    "\n",
    "# Dirichlet Process\n",
    "\n",
    "Dirichlet processes (after Peter Gustav Lejeune Dirichlet) are a family of stochastic processes whose realizations are probability distributions\n",
    "\n",
    "Dirichlet Process is a distribution over distribution parameterized by $\\alpha$ (dispersion parameter) and $G$(Base Distribution)\n",
    "\n",
    "Dirichlet Process can be demostrated by three models:<br>\n",
    "1.*Chinese Restaurant Process*<br>\n",
    "2.*Polya Urn Process*<br>\n",
    "3.*Stick Breaking Process*<br>\n",
    "\n",
    "Algorithm for simulation of generation of $X_1,X_2,\\dots,$ by Dirichlet Process:\n",
    "\n",
    "1.Draw $X_1$ from the base distribution $G$<br>\n",
    "2.For $n>1$:<br>\n",
    "\n",
    "-With the probability $\\dfrac{\\alpha}{n+\\alpha}$ sample $X_n$ from $G$\n",
    "\n",
    "-With the probability $\\dfrac{n_x}{n+\\alpha}$ set $X_x=x,$  n_x := |${$:X_j=x$ and $j<n$| where $|.|$ denotes the number of elements in the set\n",
    "\n",
    "# Properties of DP\n",
    "\n",
    "Let DP($\\alpha$, $G$ ) be the Dirichlet Process with dispersion parameter $\\alpha$ and base distribution $G$, then<br><br>\n",
    "\n",
    "<center>$\\mathbf{E}_{DP(\\alpha,G)}[x] = \\mathbf{E}_G[x]$<br><br>\n",
    "As $\\alpha \\rightarrow \\infty,  DP(\\alpha,G) \\rightarrow G$</center>\n",
    "\n",
    "\n",
    "# Gibbs Sampling for DPGMM\n",
    "\n",
    "*Base distribution is Gaussain distribution*\n",
    "<br>\n",
    "<center>$p(z_i = k | z_{-i}) \\equiv p(z_i | z_1 \\dots z_{i-1},z_{i+1},\\dots z_m)$</center>\n",
    "\n",
    "<center>$p(z_i = k|z_{-i},\\vec{x},{\\theta_k},\\alpha) $<br><br>\n",
    "$= p(z_i = k|z_{-i},x_i,\\vec{x},\\theta_k,\\alpha) $<br><br>\n",
    "$= p(z_i = k|z_{-i},\\alpha)p(x_i|\\theta_k,\\vec{x})$</center>\n",
    "\n",
    "\\begin{cases}\n",
    "({\\dfrac{n_k}{n+\\alpha}})\\mathcal{N}(x,\\dfrac{n_x}{n+1},\\mathbf{1}),\\space existing\\\\\n",
    "({\\dfrac{\\alpha}{n+\\alpha}})\\mathcal{N}(x,0,1)),\\space new\n",
    "\\end{cases}\n",
    "\n",
    "where,<br>\n",
    "$z_i$ is the group assignment of $x_i$<br>\n",
    "$k$ is the cluster label<br>\n",
    "$\\alpha$ is the dispersion parameter"
   ]
  },
  {
   "cell_type": "code",
   "execution_count": 1,
   "metadata": {},
   "outputs": [],
   "source": [
    "import numpy as np\n",
    "from scipy import stats\n",
    "import matplotlib.pyplot as plt\n",
    "import matplotlib.tri as tri\n",
    "from mpl_toolkits.mplot3d import Axes3D\n",
    "from ipywidgets import interact\n",
    "from scipy.stats import dirichlet, multivariate_normal\n",
    "from scipy import stats\n",
    "import math\n",
    "import pandas as pd\n",
    "from sklearn import datasets"
   ]
  },
  {
   "cell_type": "code",
   "execution_count": 2,
   "metadata": {},
   "outputs": [],
   "source": [
    "def Dir_Dist(a1, a2, a3):\n",
    "    alpha = np.array([a1,a2,a3])\n",
    "    theta = stats.dirichlet(alpha).rvs(1000)\n",
    "    fig = plt.figure(figsize=(8, 8), dpi=100)\n",
    "    ax = plt.gca(projection='3d')\n",
    "    plt.title(r'$\\alpha$ = {}'.format(alpha))\n",
    "    ax.scatter(theta[:, 0], theta[:, 1], theta[:, 2])\n",
    "    ax.view_init(azim=30)\n",
    "    ax.set_xlabel(r'$\\theta_1$')\n",
    "    ax.set_ylabel(r'$\\theta_2$')\n",
    "    ax.set_zlabel(r'$\\theta_3$')\n",
    "    plt.show()"
   ]
  },
  {
   "cell_type": "code",
   "execution_count": 3,
   "metadata": {},
   "outputs": [
    {
     "data": {
      "application/vnd.jupyter.widget-view+json": {
       "model_id": "0ccd4788ee094b949ff2b511ef913dfd",
       "version_major": 2,
       "version_minor": 0
      },
      "text/plain": [
       "interactive(children=(FloatSlider(value=1.05, description='a1', max=2.0, min=0.1), FloatSlider(value=1.05, des…"
      ]
     },
     "metadata": {},
     "output_type": "display_data"
    },
    {
     "data": {
      "text/plain": [
       "<function __main__.Dir_Dist(a1, a2, a3)>"
      ]
     },
     "execution_count": 3,
     "metadata": {},
     "output_type": "execute_result"
    }
   ],
   "source": [
    "interact(Dir_Dist, a1=(0.1,2),a2=(0.1,2),a3=(0.1,2))"
   ]
  },
  {
   "cell_type": "code",
   "execution_count": 4,
   "metadata": {},
   "outputs": [],
   "source": [
    "def dirichlet_process(h_0, alpha):\n",
    "    \"\"\"\n",
    "    Truncated dirichlet process.\n",
    "    :param h_0: (scipy distribution)\n",
    "    :param alpha: (flt)\n",
    "    :param n: (int) Truncate value.\n",
    "    \"\"\"\n",
    "    n = max(int(5 * alpha + 2), 500)  # truncate the values. \n",
    "    pi = stats.beta(1, alpha).rvs(size=n)\n",
    "    pi[1:] = pi[1:] * (1 - pi[:-1]).cumprod()  # stick breaking process\n",
    "    theta = h_0(size=n)  # samples from original distribution\n",
    "    return pi, theta\n",
    "        \n",
    "def plot_normal_dp_approximation(alpha, n=3):\n",
    "    pi, theta = dirichlet_process(stats.norm.rvs, alpha)\n",
    "    x = np.linspace(-4, 4, 100)\n",
    "    \n",
    "    plt.figure(figsize=(14, 4))\n",
    "    plt.suptitle(r'Three samples from DP($\\alpha$). $\\alpha$ = {}'.format(alpha))\n",
    "    plt.ylabel(r'$\\pi$')\n",
    "    plt.xlabel(r'$\\theta$')\n",
    "    pltcount = int('1' + str(n) + '0')\n",
    "    \n",
    "    for i in range(n):\n",
    "        pltcount += 1\n",
    "        plt.subplot(pltcount)\n",
    "        pi, theta = dirichlet_process(stats.norm.rvs, alpha)\n",
    "        pi = pi * (stats.norm.pdf(0) / pi.max())\n",
    "        plt.vlines(theta, 0, pi, alpha=0.5)\n",
    "        plt.ylim(0, 1)\n",
    "        plt.plot(x, stats.norm.pdf(x))\n",
    "        print(len(theta),len(pi))\n",
    "    plt.show()"
   ]
  },
  {
   "cell_type": "code",
   "execution_count": 5,
   "metadata": {},
   "outputs": [
    {
     "data": {
      "application/vnd.jupyter.widget-view+json": {
       "model_id": "66400d16a8084278924d87a567c56764",
       "version_major": 2,
       "version_minor": 0
      },
      "text/plain": [
       "interactive(children=(IntSlider(value=25, description='alpha', max=50, min=1), IntSlider(value=3, description=…"
      ]
     },
     "metadata": {},
     "output_type": "display_data"
    },
    {
     "data": {
      "text/plain": [
       "<function __main__.plot_normal_dp_approximation(alpha, n=3)>"
      ]
     },
     "execution_count": 5,
     "metadata": {},
     "output_type": "execute_result"
    }
   ],
   "source": [
    "interact(plot_normal_dp_approximation, alpha=(1, 50), n=(2,3))"
   ]
  }
 ],
 "metadata": {
  "kernelspec": {
   "display_name": "Python 3",
   "language": "python",
   "name": "python3"
  },
  "language_info": {
   "codemirror_mode": {
    "name": "ipython",
    "version": 3
   },
   "file_extension": ".py",
   "mimetype": "text/x-python",
   "name": "python",
   "nbconvert_exporter": "python",
   "pygments_lexer": "ipython3",
   "version": "3.6.5"
  }
 },
 "nbformat": 4,
 "nbformat_minor": 2
}
